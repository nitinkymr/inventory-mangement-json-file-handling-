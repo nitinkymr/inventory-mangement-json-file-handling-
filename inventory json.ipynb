{
 "cells": [
  {
   "cell_type": "code",
   "execution_count": 65,
   "id": "f3b3e228",
   "metadata": {
    "scrolled": true
   },
   "outputs": [
    {
     "name": "stdout",
     "output_type": "stream",
     "text": [
      "-----------------------------------\n",
      "----------------MENU---------------\n",
      "-----------------------------------\n",
      "PRODUCT                       PRICE\n",
      "Copperhead                      $25\n",
      "Rattlesnake                     $35\n",
      "Boa Constrictor                 $50\n",
      "Garter Snake                    $15\n",
      "Anaconda                        $70\n",
      "-----------------------------------\n",
      "2\n",
      "3\n",
      "-----------------------------------\n",
      "----------------BILL---------------\n",
      "-----------------------------------\n",
      "PRODUCT    PRICE       Total       \n",
      "\n",
      "Rattlesnake35          105         \n",
      "-----------------------------------\n",
      "-------------THANK YOU-------------\n",
      "---------Inventory Upadated--------\n"
     ]
    }
   ],
   "source": [
    "import json\n",
    "\n",
    "# Loading json file\n",
    "fd = open('inven.json','r')\n",
    "\n",
    "record = fd.read()\n",
    "js = json.loads(record)\n",
    "fd.close()\n",
    "\n",
    "#Generating Menu\n",
    "print(\"\".center(35, \"-\"))\n",
    "print(\"MENU\".center(35, \"-\"))\n",
    "print(\"\".center(35, \"-\"))\n",
    "print(\"PRODUCT\".ljust(17,\" \")+\"PRICE\".rjust(18,\" \"))\n",
    "for item in js.values():\n",
    "    print(item['name'].ljust(17,\" \")+(\"$\"+str(item['price'])).rjust(18,\" \"))\n",
    "print(\"\".center(35, \"-\"))\n",
    "\n",
    "#Taking conssumer requirement\n",
    "\n",
    "user_id = input()\n",
    "user_qnt = input()\n",
    "found =False;\n",
    "for value,key in js.items():\n",
    "    if(user_id==value):\n",
    "        if int(user_qnt)<=key['quantity']:\n",
    "            \n",
    "            # Generating bill\n",
    "            print(\"\".center(35, \"-\"))\n",
    "            print(\"BILL\".center(35,\"-\"))\n",
    "            print(\"\".center(35, \"-\"))\n",
    "            print(\"PRODUCT\".ljust(11,\" \")+\"PRICE\".ljust(12,\" \")+\"Total\".ljust(12,\" \"))\n",
    "            print()\n",
    "            print((key['name']).ljust(11,\" \")+str(key['price']).ljust(12,\" \")+str(int(key['price']*int(user_qnt))).ljust(12,\" \"))\n",
    "            print(\"\".center(35, \"-\"))\n",
    "            print(\"THANK YOU\".center(35, \"-\"))\n",
    "            js[user_id]['quantity'] = js[user_id]['quantity']-int(user_qnt)\n",
    "            \n",
    "            #Upadating inventory\n",
    "            fd = open('inven.json','w')\n",
    "            rec = json.dumps(js)\n",
    "            fd.write(rec)\n",
    "            fd.close()\n",
    "            print(\"Inventory Upadated\".center(35, \"-\"))\n",
    "            found =True;\n",
    "        else:\n",
    "            print((\"you may try \"+ str(key['quantity'])).centre(35,\"-\"))\n",
    "        break\n",
    "            \n",
    "        \n",
    "if not found:\n",
    "    print(\"No such product exists\")\n",
    "        \n",
    "    \n",
    "\n"
   ]
  }
 ],
 "metadata": {
  "kernelspec": {
   "display_name": "Python 3 (ipykernel)",
   "language": "python",
   "name": "python3"
  },
  "language_info": {
   "codemirror_mode": {
    "name": "ipython",
    "version": 3
   },
   "file_extension": ".py",
   "mimetype": "text/x-python",
   "name": "python",
   "nbconvert_exporter": "python",
   "pygments_lexer": "ipython3",
   "version": "3.11.5"
  }
 },
 "nbformat": 4,
 "nbformat_minor": 5
}
